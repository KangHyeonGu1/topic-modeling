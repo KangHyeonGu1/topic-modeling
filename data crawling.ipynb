{
 "cells": [
  {
   "cell_type": "code",
   "execution_count": 32,
   "id": "5916f560",
   "metadata": {},
   "outputs": [],
   "source": [
    "import requests\n",
    "from bs4 import BeautifulSoup\n",
    "from selenium import webdriver\n",
    "import time\n",
    "import pandas as pd\n",
    "import trafilatura as traf"
   ]
  },
  {
   "cell_type": "code",
   "execution_count": 33,
   "id": "1ee86585",
   "metadata": {},
   "outputs": [],
   "source": [
    " def crawling(n,query):\n",
    "    N = n  # Number of times to scroll the page\n",
    "    QUER=query\n",
    "    QUERIES = [QUER]\n",
    "\n",
    "\n",
    "    def get_posts(soup):\n",
    "        posts = []\n",
    "\n",
    "        # count the number of posts\n",
    "        post_count = len(\n",
    "            soup.select(\n",
    "                \"#ct > section > div.api_subject_bx > ul > li\"\n",
    "            )\n",
    "        )\n",
    "\n",
    "        for i in range(1, post_count + 1):\n",
    "            try:\n",
    "                title_selector = f\"#ct > section > div.api_subject_bx > ul > li:nth-child({i}) > div > div.detail_box > div.title_area > a\"\n",
    "                title = soup.select_one(title_selector).text\n",
    "\n",
    "                link_selector = f\"#ct > section > div.api_subject_bx > ul > li:nth-child({i}) > div > div.detail_box > div.title_area > a\"\n",
    "                link = soup.select_one(link_selector).get(\"href\")\n",
    "\n",
    "                posts.append((title, link))\n",
    "            except AttributeError:\n",
    "                pass   # break the loop if the page was structured differently than expected\n",
    "\n",
    "        return posts\n",
    "\n",
    "\n",
    "    if __name__ == \"__main__\":\n",
    "        # Initialize WebDriver\n",
    "        driver = webdriver.Chrome()\n",
    "\n",
    "        BASE_URL = (\n",
    "            \"https://m.search.naver.com/search.naver?ssc=tab.m_blog.all&query=%EC%9D%B8%EA%B3%B5%EC%A7%80%EB%8A%A5&sm=tab_opt&nso=so%3Ar%2Cp%3Afrom\"\n",
    "        )\n",
    "        for q in QUERIES:\n",
    "            url = BASE_URL + q\n",
    "\n",
    "            driver.get(url)\n",
    "            time.sleep(3)  # Wait for the page to load\n",
    "\n",
    "            # Scroll the page N times\n",
    "            for _ in range(N):\n",
    "                driver.execute_script(\"window.scrollTo(0, document.body.scrollHeight);\")\n",
    "                time.sleep(2)  # Wait for the page to load after scrolling\n",
    "\n",
    "            # Get the updated HTML after scrolling\n",
    "            html = driver.page_source\n",
    "            soup = BeautifulSoup(html, \"html.parser\")\n",
    "\n",
    "            posts = get_posts(soup)\n",
    "\n",
    "            with open(\"results_{}.txt\".format(query), \"w\", encoding=\"utf-8\") as file:\n",
    "                file.write(\"Index\\tTitle\\tLink\\n\")\n",
    "                for idx, post in enumerate(posts):\n",
    "                    file.write(f\"{idx}\\t{post[0]}\\t{post[1]}\\n\")\n",
    "                    # print(idx)\n",
    "                    # print(f\"Title: {post[0]}\")\n",
    "                    # print(f\"Link: {post[1]}\", end=\"\\n\\n\")\n",
    "\n",
    "            # Close the WebDriver session\n",
    "            driver.quit()\n",
    "            \n",
    "    result1=pd.read_table(\"results_{}.txt\".format(query))\n",
    "    li=[]\n",
    "    for i in range(len(result1)):\n",
    "        html= traf.fetch_url(result1.loc[i]['Link'])\n",
    "        re=traf.extract(html)\n",
    "        li.append(re)\n",
    "    result1['text']=li    \n",
    "    return result1"
   ]
  },
  {
   "cell_type": "code",
   "execution_count": 34,
   "id": "333c4d67",
   "metadata": {},
   "outputs": [],
   "source": [
    "ai1=crawling(16,'20231001to20231031')\n",
    "excel_file_path = 'C:/Users/mjsk1/Desktop/미팅 발표/3 data/ai1.xlsx'  # 저장할 Excel 파일 경로\n",
    "ai1.to_excel(excel_file_path, index=False) "
   ]
  },
  {
   "cell_type": "code",
   "execution_count": 35,
   "id": "bc148346",
   "metadata": {},
   "outputs": [],
   "source": [
    "ai2=crawling(16,'20231101to20231130')\n",
    "excel_file_path = 'C:/Users/mjsk1/Desktop/미팅 발표/3 data/ai2.xlsx'  # 저장할 Excel 파일 경로\n",
    "ai2.to_excel(excel_file_path, index=False) "
   ]
  },
  {
   "cell_type": "code",
   "execution_count": 36,
   "id": "dc40fc0e",
   "metadata": {},
   "outputs": [],
   "source": [
    "ai3=crawling(16,'20231201to20231231')\n",
    "excel_file_path = 'C:/Users/mjsk1/Desktop/미팅 발표/3 data/ai3.xlsx'  # 저장할 Excel 파일 경로\n",
    "ai3.to_excel(excel_file_path, index=False) "
   ]
  },
  {
   "cell_type": "code",
   "execution_count": 37,
   "id": "abd964f2",
   "metadata": {},
   "outputs": [],
   "source": [
    "ai4=crawling(16,'20240101to20240131')\n",
    "excel_file_path = 'C:/Users/mjsk1/Desktop/미팅 발표/3 data/ai4.xlsx'  # 저장할 Excel 파일 경로\n",
    "ai4.to_excel(excel_file_path, index=False) "
   ]
  },
  {
   "cell_type": "code",
   "execution_count": 38,
   "id": "60a094b5",
   "metadata": {},
   "outputs": [],
   "source": [
    "ai5=crawling(16,'20240201to20240229')\n",
    "excel_file_path = 'C:/Users/mjsk1/Desktop/미팅 발표/3 data/ai5.xlsx'  # 저장할 Excel 파일 경로\n",
    "ai5.to_excel(excel_file_path, index=False) "
   ]
  },
  {
   "cell_type": "code",
   "execution_count": 39,
   "id": "76e0f126",
   "metadata": {},
   "outputs": [],
   "source": [
    "ai6=crawling(16,'20240301to20240331')\n",
    "excel_file_path = 'C:/Users/mjsk1/Desktop/미팅 발표/3 data/ai6.xlsx'  # 저장할 Excel 파일 경로\n",
    "ai6.to_excel(excel_file_path, index=False) "
   ]
  },
  {
   "cell_type": "code",
   "execution_count": 40,
   "id": "99c21b25",
   "metadata": {},
   "outputs": [],
   "source": [
    "ai7=crawling(16,'20230901to20230930')\n",
    "excel_file_path = 'C:/Users/mjsk1/Desktop/미팅 발표/3 data/ai7.xlsx'  # 저장할 Excel 파일 경로\n",
    "ai7.to_excel(excel_file_path, index=False) "
   ]
  },
  {
   "cell_type": "code",
   "execution_count": 41,
   "id": "8990b461",
   "metadata": {},
   "outputs": [],
   "source": [
    "ai8=crawling(16,'20230801to20230831')\n",
    "excel_file_path = 'C:/Users/mjsk1/Desktop/미팅 발표/3 data/ai8.xlsx'  # 저장할 Excel 파일 경로\n",
    "ai8.to_excel(excel_file_path, index=False) "
   ]
  },
  {
   "cell_type": "code",
   "execution_count": 42,
   "id": "08a9fcc0",
   "metadata": {},
   "outputs": [],
   "source": [
    "def crawling_410(n,query):\n",
    "    N = n  # Number of times to scroll the page\n",
    "    QUER=query\n",
    "    QUERIES = [QUER]\n",
    "\n",
    "\n",
    "    def get_posts(soup):\n",
    "        posts = []\n",
    "\n",
    "        # count the number of posts\n",
    "        post_count = len(\n",
    "            soup.select(\n",
    "                \"#ct > section > div.api_subject_bx > ul > li\"\n",
    "            )\n",
    "        )\n",
    "\n",
    "        for i in range(1, post_count + 1):\n",
    "            try:\n",
    "                title_selector = f\"#ct > section > div.api_subject_bx > ul > li:nth-child({i}) > div > div.detail_box > div.title_area > a\"\n",
    "                title = soup.select_one(title_selector).text\n",
    "\n",
    "                link_selector = f\"#ct > section > div.api_subject_bx > ul > li:nth-child({i}) > div > div.detail_box > div.title_area > a\"\n",
    "                link = soup.select_one(link_selector).get(\"href\")\n",
    "\n",
    "                posts.append((title, link))\n",
    "            except AttributeError:\n",
    "                pass   # break the loop if the page was structured differently than expected\n",
    "\n",
    "        return posts\n",
    "\n",
    "\n",
    "    if __name__ == \"__main__\":\n",
    "        # Initialize WebDriver\n",
    "        driver = webdriver.Chrome()\n",
    "\n",
    "        BASE_URL = (\n",
    "            \"https://m.search.naver.com/search.naver?ssc=tab.m_blog.all&query=4.10%20%EC%B4%9D%EC%84%A0&sm=tab_opt&nso=so%3Ar%2Cp%3Afrom\"\n",
    "        )\n",
    "        for q in QUERIES:\n",
    "            url = BASE_URL + q\n",
    "\n",
    "            driver.get(url)\n",
    "            time.sleep(3)  # Wait for the page to load\n",
    "\n",
    "            # Scroll the page N times\n",
    "            for _ in range(N):\n",
    "                driver.execute_script(\"window.scrollTo(0, document.body.scrollHeight);\")\n",
    "                time.sleep(2)  # Wait for the page to load after scrolling\n",
    "\n",
    "            # Get the updated HTML after scrolling\n",
    "            html = driver.page_source\n",
    "            soup = BeautifulSoup(html, \"html.parser\")\n",
    "\n",
    "            posts = get_posts(soup)\n",
    "\n",
    "            with open(\"results_{}.txt\".format(query), \"w\", encoding=\"utf-8\") as file:\n",
    "                file.write(\"Index\\tTitle\\tLink\\n\")\n",
    "                for idx, post in enumerate(posts):\n",
    "                    file.write(f\"{idx}\\t{post[0]}\\t{post[1]}\\n\")\n",
    "                    # print(idx)\n",
    "                    # print(f\"Title: {post[0]}\")\n",
    "                    # print(f\"Link: {post[1]}\", end=\"\\n\\n\")\n",
    "\n",
    "            # Close the WebDriver session\n",
    "            driver.quit()\n",
    "            \n",
    "    result1=pd.read_table(\"results_{}.txt\".format(query))\n",
    "    li=[]\n",
    "    for i in range(len(result1)):\n",
    "        html= traf.fetch_url(result1.loc[i]['Link'])\n",
    "        re=traf.extract(html)\n",
    "        li.append(re)\n",
    "    result1['text']=li    \n",
    "    return result1"
   ]
  },
  {
   "cell_type": "code",
   "execution_count": 43,
   "id": "1592e7ec",
   "metadata": {},
   "outputs": [],
   "source": [
    "election1=crawling_410(35,'20240201to20240229')\n",
    "excel_file_path = 'C:/Users/mjsk1/Desktop/미팅 발표/3 data/elect1.xlsx'  # 저장할 Excel 파일 경로\n",
    "election1.to_excel(excel_file_path, index=False) "
   ]
  },
  {
   "cell_type": "code",
   "execution_count": 44,
   "id": "e770a7ca",
   "metadata": {},
   "outputs": [],
   "source": [
    "election2=crawling_410(60,'20240301to20240408')\n",
    "excel_file_path = 'C:/Users/mjsk1/Desktop/미팅 발표/3 data/elect2.xlsx'  # 저장할 Excel 파일 경로\n",
    "election2.to_excel(excel_file_path, index=False) "
   ]
  },
  {
   "cell_type": "code",
   "execution_count": null,
   "id": "77b238bb",
   "metadata": {},
   "outputs": [],
   "source": []
  },
  {
   "cell_type": "code",
   "execution_count": null,
   "id": "83f76a9b",
   "metadata": {},
   "outputs": [],
   "source": []
  },
  {
   "cell_type": "code",
   "execution_count": null,
   "id": "296dd9ab",
   "metadata": {},
   "outputs": [],
   "source": []
  },
  {
   "cell_type": "code",
   "execution_count": null,
   "id": "129f441b",
   "metadata": {},
   "outputs": [],
   "source": []
  }
 ],
 "metadata": {
  "kernelspec": {
   "display_name": "Python 3 (ipykernel)",
   "language": "python",
   "name": "python3"
  },
  "language_info": {
   "codemirror_mode": {
    "name": "ipython",
    "version": 3
   },
   "file_extension": ".py",
   "mimetype": "text/x-python",
   "name": "python",
   "nbconvert_exporter": "python",
   "pygments_lexer": "ipython3",
   "version": "3.7.16"
  }
 },
 "nbformat": 4,
 "nbformat_minor": 5
}
